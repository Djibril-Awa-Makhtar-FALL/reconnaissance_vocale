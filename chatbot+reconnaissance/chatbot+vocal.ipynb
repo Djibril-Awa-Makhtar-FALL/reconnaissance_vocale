{
 "cells": [
  {
   "cell_type": "markdown",
   "id": "2f9c24d1-0b7e-4ddb-b1d6-25cdca0026e0",
   "metadata": {},
   "source": [
    "1) Tout d'abord, importez les packages nécessaires dans votre code. Cela inclut nltk, streamlit et speech_recognition."
   ]
  },
  {
   "cell_type": "code",
   "execution_count": 27,
   "id": "6ea78a54-e874-498d-bd8e-bcff7c2269a0",
   "metadata": {},
   "outputs": [],
   "source": [
    "import streamlit as st\n",
    "from sklearn.feature_extraction.text import TfidfVectorizer\n",
    "from sklearn.metrics.pairwise import cosine_similarity\n",
    "import speech_recognition as sr\n",
    "import nltk\n",
    "import io\n",
    "import string"
   ]
  },
  {
   "cell_type": "code",
   "execution_count": 4,
   "id": "e513aa8b-0e0c-4bb8-8ac4-5eff1c32715d",
   "metadata": {},
   "outputs": [
    {
     "data": {
      "text/plain": [
       "True"
      ]
     },
     "execution_count": 4,
     "metadata": {},
     "output_type": "execute_result"
    }
   ],
   "source": [
    "nltk.download('punkt', quiet=True)"
   ]
  },
  {
   "cell_type": "markdown",
   "id": "c1811b0f-ed0d-45ed-a55e-d978cbab8553",
   "metadata": {},
   "source": [
    "2) Chargez le fichier texte et prétraitez les données à l’aide de l’algorithme du chatbot."
   ]
  },
  {
   "cell_type": "code",
   "execution_count": 14,
   "id": "4f5f8d0d-1d35-40c4-8af8-0dc04324b9f0",
   "metadata": {},
   "outputs": [],
   "source": [
    "# chargement du fichier text\n",
    "chemin_fichier = r\"C:\\Users\\DELL\\Desktop\\reconnaissance_vocal\\chatbot+reconnaissance\\statistique.txt\"\n",
    "try:\n",
    "    with open(chemin_fichier, 'r', encoding='utf-8') as fichier:\n",
    "        contenu = fichier.read()\n",
    "        #print(contenu)\n",
    "except FileNotFoundError:\n",
    "    print(\"Le fichier n'a pas été trouvé. Vérifiez le chemin et l'existence du fichier.\")\n",
    "except Exception as e:\n",
    "    print(f\"Une erreur est survenue : {e}\")"
   ]
  },
  {
   "cell_type": "code",
   "execution_count": 18,
   "id": "617f3ffd-4c15-4b44-8329-766d7556d931",
   "metadata": {},
   "outputs": [],
   "source": [
    "# Dictionnaire de questions avec plusieurs réponses possibles\n",
    "responses = {\n",
    "    \"qu'est-ce que la fonction de répartition ?\": [\n",
    "        \"Soit X une variable aléatoire, on appelle fonction de répartition de X, que l’on note F_X, \"\n",
    "        \"la fonction définie sur R par : F_X(x) = P(X ≤ x).\"\n",
    "    ],\n",
    "    \"qu'est-ce qu'une quantile d'ordre q ?\": [\n",
    "        \"On appelle quantile d’ordre q de la variable X, où q ∈ [0, 1], la valeur xq telle que P(X ≤ xq) = q \"\n",
    "        \"ou, de même, FX(xq) = q.\"\n",
    "    ],\n",
    "    \"qu'est-ce que la théorie des probabilités ?\": [\n",
    "        \"\"\"La théorie des probabilités a pour objet l’étude des phénomènes aléatoires<br>\n",
    "        ou du moins considérés comme tels par l’observateur. Pour cela, on introduit le concept d’expérience <br>\n",
    "        aléatoire dont l’ensemble des résultats possibles constitue l’ensemble fondamental, noté habituellement Ω.\"\"\"\n",
    "    ],\n",
    "    \"qu'est-ce qu'une variable aléatoire ?\": [\n",
    "        \"\"\"On parle de variable aléatoire (abréviation : v.a.) lorsque les résultats sont numériques, c’est-à-dire<br>\n",
    "        que Ω est identique à tout ou une partie de l’ensemble des nombres réels R.<br>\n",
    "        On distingue habituellement :<br>\n",
    "        - les variables aléatoires discrètes pour lesquelles l’ensemble Ω des résultats possibles est un <br>\n",
    "        ensemble discret de valeurs numériques x1, x2, ..., xn,<br>\n",
    "        fini ou infini (typiquement : l’ensemble des entiers naturels) ;<br>\n",
    "        - les variables aléatoires continues pour lesquelles l’ensemble Ω est tout R<br>\n",
    "        (ou un intervalle de R ou, plus rarement, une union d’intervalles).\"\"\"\n",
    "    ],\n",
    "    \"qu'est-ce qu'une espérance mathématique ?\": [\n",
    "        \"\"\"On appelle espérance mathématique de X, si elle existe, la valeur notée E(X) telle que :<br>\n",
    "        E(X) = Σ (xi * pX(xi)) dans le cas discret,<br>\n",
    "        E(X) = ∫ (x * fX(x) dx) dans le cas continu.<br>\n",
    "        Du point de vue du graphe de fX (respectivement pX), cette valeur représente le <br>\n",
    "        centre de gravité de la distribution.\"\"\"\n",
    "    ],\n",
    "    \"qu'est-ce que l'espérance d'une fonction ?\": [\n",
    "        \"\"\"Soit g(X) une fonction de la v.a. X, alors :<br>\n",
    "        E(g(X)) = ∫ g(x) fX(x) dx dans le cas continu (si l’intégrale existe),<br>\n",
    "        E(g(X)) = Σ g(xi) pX(xi) dans le cas discret (si la somme existe).<br>\n",
    "        On voit donc que pour le calcul de E(g(X)), il suffit de remplacer la valeur de x par g(x) (ou xi par g(xi)).\"\"\"\n",
    "    ]\n",
    "}"
   ]
  },
  {
   "cell_type": "code",
   "execution_count": 20,
   "id": "2b5ab492-7098-471f-a500-60e7e78f82f0",
   "metadata": {},
   "outputs": [],
   "source": [
    "# Prétraitement du texte\n",
    "def preprocess_text(text):\n",
    "    \"\"\"Prétraiter le texte : conversion en minuscules et suppression de la ponctuation.\"\"\"\n",
    "    text = text.lower()  # Convertir en minuscules\n",
    "    text = text.translate(str.maketrans('', '', string.punctuation))  # Supprimer la ponctuation\n",
    "    tokens = nltk.word_tokenize(text)  # Tokenisation\n",
    "    return ' '.join(tokens)  # Retourner le texte prétraité sous forme de chaîne"
   ]
  },
  {
   "cell_type": "markdown",
   "id": "10fd8b28-09c8-4e01-962f-7c239750d461",
   "metadata": {},
   "source": [
    "3) Définir une fonction pour transcrire la parole en texte à l'aide de l'algorithme de reconnaissance vocale."
   ]
  },
  {
   "cell_type": "code",
   "execution_count": 24,
   "id": "efe532b6-3878-42b5-9e76-569c42a45eec",
   "metadata": {},
   "outputs": [],
   "source": [
    "def transcribe_speech(api_choice, language, listening):\n",
    "    r = sr.Recognizer()\n",
    "    \n",
    "    if not listening:\n",
    "        return \"L'écoute est mise en pause.\"\n",
    "\n",
    "    with sr.Microphone() as source:\n",
    "        st.info(\"Parlez maintenant...\")\n",
    "        audio_text = r.listen(source)\n",
    "        st.info(\"Transcription...\")\n",
    "\n",
    "        try:\n",
    "            # Sélection de l'API de reconnaissance vocale\n",
    "            if api_choice == \"Google\":\n",
    "                text = r.recognize_google(audio_text, language=language)\n",
    "            elif api_choice == \"Sphinx\":\n",
    "                text = r.recognize_sphinx(audio_text)\n",
    "            else:\n",
    "                return \"Erreur : API non reconnue.\"\n",
    "\n",
    "            return text\n",
    "\n",
    "        except sr.UnknownValueError:\n",
    "            return \"Erreur : Impossible de comprendre l'audio.\"\n",
    "        except sr.RequestError as e:\n",
    "            return f\"Erreur de service : {e}\"\n",
    "        except Exception as e:\n",
    "            return f\"Une erreur inattendue est survenue : {e}\""
   ]
  },
  {
   "cell_type": "markdown",
   "id": "cc4db0c5-dc87-41b7-811c-7d12946037ce",
   "metadata": {},
   "source": [
    "4) Modifiez la fonction du chatbot pour qu'il reçoive à la fois des entrées textuelles et vocales de l'utilisateur. Si l'utilisateur fournit une entrée textuelle, le chatbot doit fonctionner comme avant. Si l'utilisateur fournit une entrée vocale, l'algorithme de reconnaissance vocale doit transcrire la parole en texte, qui est ensuite transmis au chatbot."
   ]
  },
  {
   "cell_type": "code",
   "execution_count": 29,
   "id": "4eba39c4-5edd-4581-8baf-ccc9539111bb",
   "metadata": {},
   "outputs": [],
   "source": [
    "def normalize_query(query):\n",
    "    \"\"\"Normaliser la requête de l'utilisateur.\"\"\"\n",
    "    return query.lower().strip()"
   ]
  },
  {
   "cell_type": "code",
   "execution_count": 31,
   "id": "dd2e3228-534b-42c5-8cec-cfdcba431c37",
   "metadata": {},
   "outputs": [],
   "source": [
    "def get_most_relevant_sentence(user_query, text_data):\n",
    "    \"\"\"Trouver la phrase la plus pertinente à partir du texte prétraité.\"\"\"\n",
    "    sentences = ' '.join(text_data).split('. ')\n",
    "    sentences.append(user_query)\n",
    "    vectorizer = TfidfVectorizer()\n",
    "    tfidf_matrix = vectorizer.fit_transform(sentences)\n",
    "    cosine_similarities = cosine_similarity(tfidf_matrix[-1], tfidf_matrix[:-1])\n",
    "    most_relevant_index = cosine_similarities.argmax()\n",
    "    return sentences[most_relevant_index]"
   ]
  },
  {
   "cell_type": "code",
   "execution_count": 33,
   "id": "c2185297-e6ef-4015-b118-6173b5c73f6f",
   "metadata": {},
   "outputs": [],
   "source": [
    "def chatbot(user_query, text_data):\n",
    "    \"\"\"Fonction principale du chatbot.\"\"\"\n",
    "    normalized_query = normalize_query(user_query)\n",
    "\n",
    "    # Vérification des réponses directes\n",
    "    for question in responses:\n",
    "        if question in normalized_query:\n",
    "            return responses[question][0]\n",
    "    \n",
    "    # Si aucune réponse directe, trouver la phrase la plus pertinente\n",
    "    return get_most_relevant_sentence(user_query, text_data)"
   ]
  },
  {
   "cell_type": "code",
   "execution_count": 35,
   "id": "c4b98491-56ff-4b43-aacc-20ce96f8b561",
   "metadata": {},
   "outputs": [
    {
     "name": "stderr",
     "output_type": "stream",
     "text": [
      "2024-12-17 13:49:41.328 \n",
      "  \u001b[33m\u001b[1mWarning:\u001b[0m to view this Streamlit app on a browser, run it with the following\n",
      "  command:\n",
      "\n",
      "    streamlit run C:\\ProgramData\\anaconda3\\Lib\\site-packages\\ipykernel_launcher.py [ARGUMENTS]\n",
      "2024-12-17 13:49:41.328 Session state does not function when running a script without `streamlit run`\n"
     ]
    }
   ],
   "source": [
    "def main():\n",
    "    st.title(\"Chatbot Statistique et Probabilités\")\n",
    "    \n",
    "    # Sélecteur d'API de reconnaissance vocale\n",
    "    api_choice = st.selectbox(\"Choisissez l'API de reconnaissance vocale :\", [\"Google\", \"Sphinx\"])\n",
    "    \n",
    "    # Sélecteur de langue\n",
    "    language = st.selectbox(\"Choisissez la langue :\", [\"fr-FR\", \"en-US\", \"es-ES\", \"de-DE\"])\n",
    "    \n",
    "    # Chargement du fichier texte\n",
    "    file_path = st.text_input(\"Entrez le chemin du fichier texte :\", \"statistique.text\")\n",
    "    \n",
    "    if st.button(\"Charger et Prétraiter le Fichier\"):\n",
    "        try:\n",
    "            raw_text = load_text_file(file_path)\n",
    "            text_data = preprocess_text(raw_text)\n",
    "            st.write(\"Texte prétraité : \", text_data)\n",
    "        except FileNotFoundError:\n",
    "            st.write(\"Le fichier n'a pas été trouvé. Veuillez vérifier le chemin.\")\n",
    "\n",
    "    # Zone de saisie pour poser une question\n",
    "    user_input = st.text_input(\"Posez votre question sur la statistique et la probabilité :\")\n",
    "    \n",
    "    if user_input and 'text_data' in locals():\n",
    "        response = chatbot(user_input, text_data)\n",
    "        st.markdown(response, unsafe_allow_html=True)\n",
    "\n",
    "    # Option pour la saisie vocale\n",
    "    if st.button(\"Transcrire la parole\"):\n",
    "        speech_text = transcribe_speech(api_choice, language)\n",
    "        if 'text_data' in locals():\n",
    "            response = chatbot(speech_text, text_data)\n",
    "            st.markdown(response, unsafe_allow_html=True)\n",
    "\n",
    "if __name__ == \"__main__\":\n",
    "    main()"
   ]
  },
  {
   "cell_type": "markdown",
   "id": "56c06d62-4430-452d-a758-359d747b9709",
   "metadata": {},
   "source": [
    "5) Créez une application Streamlit qui permet à l'utilisateur de fournir une entrée de texte ou de parole au chatbot. Si l'utilisateur fournit une entrée de texte, le chatbot doit fonctionner comme avant. Si l'utilisateur fournit une entrée vocale, l'algorithme de reconnaissance vocale doit transcrire la parole en texte, qui est ensuite transmis au chatbot. La réponse du chatbot doit être affichée à l'utilisateur."
   ]
  },
  {
   "cell_type": "code",
   "execution_count": null,
   "id": "778f8613-f019-472a-9877-54cbc3b4e596",
   "metadata": {},
   "outputs": [],
   "source": []
  }
 ],
 "metadata": {
  "kernelspec": {
   "display_name": "Python 3 (ipykernel)",
   "language": "python",
   "name": "python3"
  },
  "language_info": {
   "codemirror_mode": {
    "name": "ipython",
    "version": 3
   },
   "file_extension": ".py",
   "mimetype": "text/x-python",
   "name": "python",
   "nbconvert_exporter": "python",
   "pygments_lexer": "ipython3",
   "version": "3.12.7"
  }
 },
 "nbformat": 4,
 "nbformat_minor": 5
}
